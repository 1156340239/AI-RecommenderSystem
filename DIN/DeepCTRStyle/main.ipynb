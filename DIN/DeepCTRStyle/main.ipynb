{
 "cells": [
  {
   "cell_type": "markdown",
   "id": "voluntary-signal",
   "metadata": {},
   "source": [
    "## Description:\n",
    "这里是DIN的一个demo， 主要分为数据读取与处理，模型搭建，模型的训练三大模块"
   ]
  },
  {
   "cell_type": "code",
   "execution_count": 1,
   "id": "metric-prediction",
   "metadata": {
    "ExecuteTime": {
     "end_time": "2021-02-28T02:58:36.024276Z",
     "start_time": "2021-02-28T02:58:32.476985Z"
    }
   },
   "outputs": [],
   "source": [
    "# python基础包\n",
    "import numpy as np\n",
    "import pandas as pd\n",
    "import matplotlib.pyplot as plt\n",
    "\n",
    "# 特征处理与数据集划分\n",
    "from sklearn.preprocessing import OneHotEncoder, MinMaxScaler, StandardScaler, LabelEncoder\n",
    "from sklearn.model_selection import train_test_split\n",
    "from utils import DenseFeat, SparseFeat, VarLenSparseFeat\n",
    "\n",
    "# 导入模型\n",
    "from DIN import DIN\n",
    "\n",
    "# 模型训练相关\n",
    "from tensorflow.keras.callbacks import EarlyStopping, ReduceLROnPlateau\n",
    "from tensorflow.keras.metrics import AUC\n",
    "from tensorflow.keras.losses import binary_crossentropy\n",
    "from tensorflow.keras.optimizers import Adam\n",
    "\n",
    "# 一些相关设置\n",
    "import warnings\n",
    "plt.style.use('fivethirtyeight')\n",
    "warnings.filterwarnings('ignore')"
   ]
  },
  {
   "cell_type": "markdown",
   "id": "better-vector",
   "metadata": {},
   "source": [
    "## 导入数据"
   ]
  },
  {
   "cell_type": "code",
   "execution_count": 2,
   "id": "hundred-rapid",
   "metadata": {
    "ExecuteTime": {
     "end_time": "2021-02-28T02:58:37.877290Z",
     "start_time": "2021-02-28T02:58:37.865281Z"
    }
   },
   "outputs": [],
   "source": [
    "\"\"\"读取数据\"\"\"\n",
    "# 读取数据\n",
    "samples_data = pd.read_csv(\"data/movie_sample.txt\", sep=\"\\t\", header = None)\n",
    "samples_data.columns = [\"user_id\", \"gender\", \"age\", \"hist_movie_id\", \"hist_len\", \"movie_id\", \"movie_type_id\", \"label\"]"
   ]
  },
  {
   "cell_type": "code",
   "execution_count": 3,
   "id": "trained-gibson",
   "metadata": {
    "ExecuteTime": {
     "end_time": "2021-02-28T02:58:38.856950Z",
     "start_time": "2021-02-28T02:58:38.839995Z"
    }
   },
   "outputs": [],
   "source": [
    "\"\"\"数据集\"\"\"\n",
    "X = samples_data[[\"user_id\", \"gender\", \"age\", \"hist_movie_id\", \"hist_len\", \"movie_id\", \"movie_type_id\"]]\n",
    "y = samples_data[\"label\"]"
   ]
  },
  {
   "cell_type": "code",
   "execution_count": 4,
   "id": "forward-oriental",
   "metadata": {
    "ExecuteTime": {
     "end_time": "2021-02-28T02:58:40.167594Z",
     "start_time": "2021-02-28T02:58:40.142659Z"
    }
   },
   "outputs": [],
   "source": [
    "\"\"\"构建DIN模型的输入格式\"\"\"\n",
    "X_train = {\"user_id\": np.array(X[\"user_id\"]), \\\n",
    "            \"gender\": np.array(X[\"gender\"]), \\\n",
    "            \"age\": np.array(X[\"age\"]), \\\n",
    "            \"hist_movie_id\": np.array([[int(i) for i in l.split(',')] for l in X[\"hist_movie_id\"]]), \\\n",
    "            \"hist_len\": np.array(X[\"hist_len\"]), \\\n",
    "            \"movie_id\": np.array(X[\"movie_id\"]), \\\n",
    "            \"movie_type_id\": np.array(X[\"movie_type_id\"])}\n",
    "y_train = np.array(y)"
   ]
  },
  {
   "cell_type": "markdown",
   "id": "touched-headquarters",
   "metadata": {},
   "source": [
    "## 模型建立"
   ]
  },
  {
   "cell_type": "code",
   "execution_count": 5,
   "id": "accompanied-camera",
   "metadata": {
    "ExecuteTime": {
     "end_time": "2021-02-28T02:58:41.743579Z",
     "start_time": "2021-02-28T02:58:41.733605Z"
    }
   },
   "outputs": [],
   "source": [
    "\"\"\"特征封装\"\"\"\n",
    "feature_columns = [SparseFeat('user_id', max(samples_data[\"user_id\"])+1, embedding_dim=8), \n",
    "                        SparseFeat('gender', max(samples_data[\"gender\"])+1, embedding_dim=8), \n",
    "                        SparseFeat('age', max(samples_data[\"age\"])+1, embedding_dim=8), \n",
    "                        SparseFeat('movie_id', max(samples_data[\"movie_id\"])+1, embedding_dim=8),\n",
    "                        SparseFeat('movie_type_id', max(samples_data[\"movie_type_id\"])+1, embedding_dim=8),\n",
    "                        DenseFeat('hist_len', 1)]\n",
    "\n",
    "feature_columns += [VarLenSparseFeat(SparseFeat('hist_movie_id', \n",
    "                                                vocabulary_size=max(samples_data[\"movie_id\"])+1,\n",
    "                                                embedding_dim=8,\n",
    "                                                embedding_name='item_id'), maxlen=50)]\n",
    "\n",
    "# 行为特征列表，表示的是基础特征\n",
    "behavior_feature_list = ['movie_id']\n",
    "# 行为序列特征\n",
    "behavior_seq_feature_list = ['hist_movie_id']"
   ]
  },
  {
   "cell_type": "code",
   "execution_count": 6,
   "id": "stylish-savannah",
   "metadata": {
    "ExecuteTime": {
     "end_time": "2021-02-28T02:58:43.076740Z",
     "start_time": "2021-02-28T02:58:43.069721Z"
    }
   },
   "outputs": [],
   "source": [
    "\"\"\"设置超参数\"\"\"\n",
    "learning_rate = 0.001\n",
    "batch_size = 64\n",
    "epochs = 50"
   ]
  },
  {
   "cell_type": "code",
   "execution_count": 7,
   "id": "suited-application",
   "metadata": {
    "ExecuteTime": {
     "end_time": "2021-02-28T02:58:45.748411Z",
     "start_time": "2021-02-28T02:58:45.407182Z"
    },
    "scrolled": true
   },
   "outputs": [
    {
     "name": "stdout",
     "output_type": "stream",
     "text": [
      "Model: \"model\"\n",
      "__________________________________________________________________________________________________\n",
      "Layer (type)                    Output Shape         Param #     Connected to                     \n",
      "==================================================================================================\n",
      "user_id (InputLayer)            [(None, 1)]          0                                            \n",
      "__________________________________________________________________________________________________\n",
      "gender (InputLayer)             [(None, 1)]          0                                            \n",
      "__________________________________________________________________________________________________\n",
      "age (InputLayer)                [(None, 1)]          0                                            \n",
      "__________________________________________________________________________________________________\n",
      "movie_id (InputLayer)           [(None, 1)]          0                                            \n",
      "__________________________________________________________________________________________________\n",
      "movie_type_id (InputLayer)      [(None, 1)]          0                                            \n",
      "__________________________________________________________________________________________________\n",
      "emb_user_id (Embedding)         (None, 1, 8)         32          user_id[0][0]                    \n",
      "__________________________________________________________________________________________________\n",
      "emb_gender (Embedding)          (None, 1, 8)         24          gender[0][0]                     \n",
      "__________________________________________________________________________________________________\n",
      "emb_age (Embedding)             (None, 1, 8)         32          age[0][0]                        \n",
      "__________________________________________________________________________________________________\n",
      "emb_movie_id (Embedding)        (None, 1, 8)         1672        movie_id[0][0]                   \n",
      "                                                                 movie_id[0][0]                   \n",
      "__________________________________________________________________________________________________\n",
      "emb_movie_type_id (Embedding)   (None, 1, 8)         80          movie_type_id[0][0]              \n",
      "__________________________________________________________________________________________________\n",
      "hist_movie_id (InputLayer)      [(None, 50)]         0                                            \n",
      "__________________________________________________________________________________________________\n",
      "flatten (Flatten)               (None, 8)            0           emb_user_id[0][0]                \n",
      "__________________________________________________________________________________________________\n",
      "flatten_1 (Flatten)             (None, 8)            0           emb_gender[0][0]                 \n",
      "__________________________________________________________________________________________________\n",
      "flatten_2 (Flatten)             (None, 8)            0           emb_age[0][0]                    \n",
      "__________________________________________________________________________________________________\n",
      "flatten_3 (Flatten)             (None, 8)            0           emb_movie_id[0][0]               \n",
      "__________________________________________________________________________________________________\n",
      "flatten_4 (Flatten)             (None, 8)            0           emb_movie_type_id[0][0]          \n",
      "__________________________________________________________________________________________________\n",
      "emb_hist_movie_id (Embedding)   (None, 50, 8)        1680        hist_movie_id[0][0]              \n",
      "__________________________________________________________________________________________________\n",
      "hist_len (InputLayer)           [(None, 1)]          0                                            \n",
      "__________________________________________________________________________________________________\n",
      "concatenate (Concatenate)       (None, 40)           0           flatten[0][0]                    \n",
      "                                                                 flatten_1[0][0]                  \n",
      "                                                                 flatten_2[0][0]                  \n",
      "                                                                 flatten_3[0][0]                  \n",
      "                                                                 flatten_4[0][0]                  \n",
      "__________________________________________________________________________________________________\n",
      "attention_pooling_layer (Attent (None, 8)            72065       emb_movie_id[1][0]               \n",
      "                                                                 emb_hist_movie_id[0][0]          \n",
      "__________________________________________________________________________________________________\n",
      "concatenate_1 (Concatenate)     (None, 49)           0           hist_len[0][0]                   \n",
      "                                                                 concatenate[0][0]                \n",
      "                                                                 attention_pooling_layer[0][0]    \n",
      "__________________________________________________________________________________________________\n",
      "dense_4 (Dense)                 (None, 200)          10200       concatenate_1[0][0]              \n",
      "__________________________________________________________________________________________________\n",
      "dense_5 (Dense)                 (None, 80)           16160       dense_4[0][0]                    \n",
      "__________________________________________________________________________________________________\n",
      "dense_6 (Dense)                 (None, 1)            81          dense_5[0][0]                    \n",
      "==================================================================================================\n",
      "Total params: 102,026\n",
      "Trainable params: 102,026\n",
      "Non-trainable params: 0\n",
      "__________________________________________________________________________________________________\n"
     ]
    }
   ],
   "source": [
    "\"\"\"构建DIN模型\"\"\"\n",
    "model = DIN(feature_columns, behavior_feature_list, behavior_seq_feature_list)\n",
    "model.summary()"
   ]
  },
  {
   "cell_type": "code",
   "execution_count": 8,
   "id": "former-identifier",
   "metadata": {
    "ExecuteTime": {
     "end_time": "2021-02-28T02:58:51.819812Z",
     "start_time": "2021-02-28T02:58:51.790496Z"
    }
   },
   "outputs": [],
   "source": [
    "\"\"\"模型编译\"\"\"\n",
    "model.compile(loss=binary_crossentropy, optimizer=Adam(learning_rate=learning_rate), metrics=[AUC()])"
   ]
  },
  {
   "cell_type": "markdown",
   "id": "identified-scope",
   "metadata": {},
   "source": [
    "## 模型训练"
   ]
  },
  {
   "cell_type": "code",
   "execution_count": 9,
   "id": "impressive-renewal",
   "metadata": {
    "ExecuteTime": {
     "end_time": "2021-02-28T02:58:58.845993Z",
     "start_time": "2021-02-28T02:58:53.282302Z"
    }
   },
   "outputs": [
    {
     "name": "stdout",
     "output_type": "stream",
     "text": [
      "Epoch 1/50\n",
      "18/18 [==============================] - 2s 42ms/step - loss: 0.8460 - auc: 0.5031 - val_loss: 0.4846 - val_auc: 0.4987\n",
      "Epoch 2/50\n",
      "18/18 [==============================] - 0s 19ms/step - loss: 0.5373 - auc: 0.5230 - val_loss: 0.4837 - val_auc: 0.4928\n",
      "Epoch 3/50\n",
      "18/18 [==============================] - 0s 27ms/step - loss: 0.5677 - auc: 0.4914 - val_loss: 0.4848 - val_auc: 0.4669\n",
      "Epoch 4/50\n",
      "18/18 [==============================] - 0s 21ms/step - loss: 0.5125 - auc: 0.5286 - val_loss: 0.4749 - val_auc: 0.4319\n",
      "Epoch 5/50\n",
      "18/18 [==============================] - 0s 21ms/step - loss: 0.4711 - auc: 0.5304 - val_loss: 0.4690 - val_auc: 0.3655\n",
      "Epoch 6/50\n",
      "18/18 [==============================] - 0s 19ms/step - loss: 0.4921 - auc: 0.5040 - val_loss: 0.5621 - val_auc: 0.3645\n",
      "Epoch 7/50\n",
      "18/18 [==============================] - 0s 21ms/step - loss: 0.5687 - auc: 0.5495 - val_loss: 0.4973 - val_auc: 0.3329\n",
      "Epoch 8/50\n",
      "18/18 [==============================] - 0s 22ms/step - loss: 0.5069 - auc: 0.5315 - val_loss: 0.5050 - val_auc: 0.1600\n",
      "\n",
      "Epoch 00008: ReduceLROnPlateau reducing learning rate to 1.0000000474974514e-05.\n",
      "Epoch 9/50\n",
      "18/18 [==============================] - 0s 20ms/step - loss: 0.4423 - auc: 0.6341 - val_loss: 0.5055 - val_auc: 0.1629\n",
      "Epoch 10/50\n",
      "18/18 [==============================] - 0s 21ms/step - loss: 0.4142 - auc: 0.6659 - val_loss: 0.5060 - val_auc: 0.1628\n"
     ]
    }
   ],
   "source": [
    "\"\"\"模型训练\"\"\"\n",
    "callbacks = [\n",
    "    EarlyStopping(monitor='val_loss', patience=5, restore_best_weights=True),   # 早停\n",
    "    ReduceLROnPlateau(monitor='val_loss', patience=3, factor=0.01, verbose=1)  # 调整学习率\n",
    "]\n",
    "history = model.fit(X_train, \n",
    "                    y_train, \n",
    "                    epochs=epochs, \n",
    "                    validation_split=0.2, \n",
    "                    batch_size=batch_size,\n",
    "                    callbacks = callbacks\n",
    "                   )"
   ]
  },
  {
   "cell_type": "code",
   "execution_count": 10,
   "id": "thirty-tennis",
   "metadata": {
    "ExecuteTime": {
     "end_time": "2021-02-28T02:59:04.258316Z",
     "start_time": "2021-02-28T02:59:04.126234Z"
    }
   },
   "outputs": [
    {
     "data": {
      "image/png": "[encoded data removed]",
      "text/plain": [
       "<Figure size 432x288 with 1 Axes>"
      ]
     },
     "metadata": {},
     "output_type": "display_data"
    }
   ],
   "source": [
    "\"\"\"可视化下看看训练情况\"\"\"\n",
    "plt.plot(history.history['loss'])\n",
    "plt.plot(history.history['val_loss'])\n",
    "plt.title('Model loss')\n",
    "plt.ylabel('Loss')\n",
    "plt.xlabel('Epoch')\n",
    "plt.legend(['Train', 'Test'], loc='upper left')\n",
    "plt.show()"
   ]
  }
 ],
 "metadata": {
  "kernelspec": {
   "display_name": "Python 3",
   "language": "python",
   "name": "python3"
  },
  "language_info": {
   "codemirror_mode": {
    "name": "ipython",
    "version": 3
   },
   "file_extension": ".py",
   "mimetype": "text/x-python",
   "name": "python",
   "nbconvert_exporter": "python",
   "pygments_lexer": "ipython3",
   "version": "3.7.9"
  },
  "toc": {
   "base_numbering": 1,
   "nav_menu": {},
   "number_sections": true,
   "sideBar": true,
   "skip_h1_title": false,
   "title_cell": "Table of Contents",
   "title_sidebar": "Contents",
   "toc_cell": false,
   "toc_position": {},
   "toc_section_display": true,
   "toc_window_display": false
  },
  "varInspector": {
   "cols": {
    "lenName": 16,
    "lenType": 16,
    "lenVar": 40
   },
   "kernels_config": {
    "python": {
     "delete_cmd_postfix": "",
     "delete_cmd_prefix": "del ",
     "library": "var_list.py",
     "varRefreshCmd": "print(var_dic_list())"
    },
    "r": {
     "delete_cmd_postfix": ") ",
     "delete_cmd_prefix": "rm(",
     "library": "var_list.r",
     "varRefreshCmd": "cat(var_dic_list()) "
    }
   },
   "types_to_exclude": [
    "module",
    "function",
    "builtin_function_or_method",
    "instance",
    "_Feature"
   ],
   "window_display": false
  }
 },
 "nbformat": 4,
 "nbformat_minor": 5
}
